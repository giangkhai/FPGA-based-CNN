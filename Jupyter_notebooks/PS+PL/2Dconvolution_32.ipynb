{
 "cells": [
  {
   "cell_type": "code",
   "execution_count": 1,
   "id": "d2ec470c",
   "metadata": {},
   "outputs": [],
   "source": [
    "from pynq import Overlay, allocate\n",
    "import numpy as np\n",
    "import time\n",
    "from PIL import Image\n",
    "import matplotlib.pyplot as plt"
   ]
  },
  {
   "cell_type": "markdown",
   "id": "0ad6d1d6",
   "metadata": {},
   "source": [
    "# Load the overlay"
   ]
  },
  {
   "cell_type": "code",
   "execution_count": 2,
   "id": "fc137d2f",
   "metadata": {},
   "outputs": [
    {
     "data": {
      "application/javascript": [
       "\n",
       "try {\n",
       "require(['notebook/js/codecell'], function(codecell) {\n",
       "  codecell.CodeCell.options_default.highlight_modes[\n",
       "      'magic_text/x-csrc'] = {'reg':[/^%%microblaze/]};\n",
       "  Jupyter.notebook.events.one('kernel_ready.Kernel', function(){\n",
       "      Jupyter.notebook.get_cells().map(function(cell){\n",
       "          if (cell.cell_type == 'code'){ cell.auto_highlight(); } }) ;\n",
       "  });\n",
       "});\n",
       "} catch (e) {};\n"
      ]
     },
     "metadata": {},
     "output_type": "display_data"
    },
    {
     "data": {
      "application/javascript": [
       "\n",
       "try {\n",
       "require(['notebook/js/codecell'], function(codecell) {\n",
       "  codecell.CodeCell.options_default.highlight_modes[\n",
       "      'magic_text/x-csrc'] = {'reg':[/^%%pybind11/]};\n",
       "  Jupyter.notebook.events.one('kernel_ready.Kernel', function(){\n",
       "      Jupyter.notebook.get_cells().map(function(cell){\n",
       "          if (cell.cell_type == 'code'){ cell.auto_highlight(); } }) ;\n",
       "  });\n",
       "});\n",
       "} catch (e) {};\n"
      ]
     },
     "metadata": {},
     "output_type": "display_data"
    }
   ],
   "source": [
    "overlay = Overlay(\"./conv_32/conv_32.bit\")\n",
    "conv_ip = overlay.conv_0\n",
    "AP_CTRL = 0x00\n",
    "IMAGE_IN_DATA = 0x10  # Address where the input data should be written\n",
    "IMAGE_OUT_DATA = 0x1c  # Address where the output data will be read from\n",
    "KERNEL_BASE = 0x30  # Base address for the kernel"
   ]
  },
  {
   "cell_type": "markdown",
   "id": "2389cf0d",
   "metadata": {},
   "source": [
    "# Load the kernel"
   ]
  },
  {
   "cell_type": "code",
   "execution_count": 119,
   "id": "afb77940",
   "metadata": {},
   "outputs": [],
   "source": [
    "example_kernel = np.array([[-1, 0, 1],\n",
    "                           [-1, 0, 1],\n",
    "                           [-1, 0, 1]], dtype=np.int8).flatten()"
   ]
  },
  {
   "cell_type": "code",
   "execution_count": 120,
   "id": "82908dbe",
   "metadata": {},
   "outputs": [],
   "source": [
    "def pack_kernel(kernel):\n",
    "    packed_kernel = []\n",
    "    for i in range(0, len(kernel), 4):\n",
    "        word = 0\n",
    "        for j in range(4):\n",
    "            if i + j < len(kernel):\n",
    "                word |= (int(kernel[i + j]) & 0xFF) << (8 * j)\n",
    "        packed_kernel.append(word)\n",
    "    return packed_kernel"
   ]
  },
  {
   "cell_type": "code",
   "execution_count": 121,
   "id": "0e12a07a",
   "metadata": {},
   "outputs": [],
   "source": [
    "packed_kernel = pack_kernel(example_kernel)\n",
    "for i, word in enumerate(packed_kernel):\n",
    "    conv_ip.write(KERNEL_BASE + 4 * i, word)"
   ]
  },
  {
   "cell_type": "markdown",
   "id": "ebe22395",
   "metadata": {},
   "source": [
    "# Load the test image and resize if necessary"
   ]
  },
  {
   "cell_type": "code",
   "execution_count": 122,
   "id": "9378bed4",
   "metadata": {},
   "outputs": [],
   "source": [
    "test_image_path = './test.jpg'\n",
    "original_image = Image.open(test_image_path)\n",
    "original_image = original_image.convert('L')  # Convert to grayscale"
   ]
  },
  {
   "cell_type": "markdown",
   "id": "1cfc12c2",
   "metadata": {},
   "source": [
    "# Ensure the image dimensions match the input size for the IP"
   ]
  },
  {
   "cell_type": "code",
   "execution_count": 123,
   "id": "5cb98636",
   "metadata": {},
   "outputs": [],
   "source": [
    "Width, Height = original_image.size\n",
    "if Width != 32 or Height != 32:\n",
    "    original_image = original_image.resize((32, 32))"
   ]
  },
  {
   "cell_type": "markdown",
   "id": "5c213f87",
   "metadata": {},
   "source": [
    "# Allocate buffers for the input and output images"
   ]
  },
  {
   "cell_type": "code",
   "execution_count": 124,
   "id": "9887b0c5",
   "metadata": {},
   "outputs": [],
   "source": [
    "input_buffer  = allocate(shape=(32, 32), dtype=np.uint8)\n",
    "output_buffer = allocate(shape=(32, 32), dtype=np.uint8)"
   ]
  },
  {
   "cell_type": "markdown",
   "id": "d24b9df4",
   "metadata": {},
   "source": [
    "# Copy the image data into the input buffer and transfer to the FPGA"
   ]
  },
  {
   "cell_type": "code",
   "execution_count": 125,
   "id": "718a1955",
   "metadata": {},
   "outputs": [],
   "source": [
    "input_buffer[:] = np.array(original_image)"
   ]
  },
  {
   "cell_type": "code",
   "execution_count": 126,
   "id": "d6c00804",
   "metadata": {},
   "outputs": [
    {
     "name": "stdout",
     "output_type": "stream",
     "text": [
      "[[255 255 255 ... 255 255 255]\n",
      " [255 255 207 ... 206 255 255]\n",
      " [255 255  98 ...  99 255 255]\n",
      " ...\n",
      " [255 255  98 ...  99 255 255]\n",
      " [255 255 207 ... 206 255 255]\n",
      " [255 255 255 ... 255 255 255]]\n"
     ]
    }
   ],
   "source": [
    "print(input_buffer)"
   ]
  },
  {
   "cell_type": "code",
   "execution_count": 127,
   "id": "a4734f52",
   "metadata": {},
   "outputs": [],
   "source": [
    "input_buffer.sync_to_device()"
   ]
  },
  {
   "cell_type": "markdown",
   "id": "9c39d417",
   "metadata": {},
   "source": [
    "# Define run_kernel function:"
   ]
  },
  {
   "cell_type": "code",
   "execution_count": 128,
   "id": "4645d998",
   "metadata": {},
   "outputs": [],
   "source": [
    "def run_kernel():\n",
    "     # Set the physical addresses for the input and output data in the IP\n",
    "    conv_ip.write(IMAGE_IN_DATA, input_buffer.physical_address)\n",
    "    conv_ip.write(IMAGE_OUT_DATA, output_buffer.physical_address)\n",
    "    # Start the IP core\n",
    "    conv_ip.write(AP_CTRL, 0x01)\n",
    "    \n",
    "    # Wait for the convolution to finish\n",
    "    while (conv_ip.read(AP_CTRL) & 0x2) == 0:\n",
    "        pass"
   ]
  },
  {
   "cell_type": "markdown",
   "id": "f9789e7a",
   "metadata": {},
   "source": [
    "# Measure the time taken for the convolution operation"
   ]
  },
  {
   "cell_type": "code",
   "execution_count": 129,
   "id": "9df343a3",
   "metadata": {},
   "outputs": [],
   "source": [
    "start_time = time.time()\n",
    "run_kernel()\n",
    "end_time = time.time()"
   ]
  },
  {
   "cell_type": "markdown",
   "id": "b286ab06",
   "metadata": {},
   "source": [
    "# Calculate the elapsed time"
   ]
  },
  {
   "cell_type": "code",
   "execution_count": 130,
   "id": "6545616b",
   "metadata": {},
   "outputs": [
    {
     "name": "stdout",
     "output_type": "stream",
     "text": [
      "Convolution time: 0.001324 seconds\n"
     ]
    }
   ],
   "source": [
    "elapsed_time = end_time - start_time\n",
    "print(f\"Convolution time: {elapsed_time:.6f} seconds\")"
   ]
  },
  {
   "cell_type": "markdown",
   "id": "9294d67f",
   "metadata": {},
   "source": [
    "# Transfer the output buffer back from the FPGA and create an image from it"
   ]
  },
  {
   "cell_type": "code",
   "execution_count": 131,
   "id": "cde3ae69",
   "metadata": {},
   "outputs": [],
   "source": [
    "output_buffer.sync_from_device()"
   ]
  },
  {
   "cell_type": "code",
   "execution_count": 132,
   "id": "dc45bc4e",
   "metadata": {},
   "outputs": [],
   "source": [
    "convolved_image = Image.fromarray(output_buffer.astype('uint8'))"
   ]
  },
  {
   "cell_type": "markdown",
   "id": "00846252",
   "metadata": {},
   "source": [
    "# Display the original and convolved images"
   ]
  },
  {
   "cell_type": "code",
   "execution_count": 133,
   "id": "ce5ae5e6",
   "metadata": {},
   "outputs": [
    {
     "data": {
      "image/png": "[encoded data removed]",
      "text/plain": [
       "<Figure size 720x360 with 2 Axes>"
      ]
     },
     "metadata": {
      "needs_background": "light"
     },
     "output_type": "display_data"
    }
   ],
   "source": [
    "fig, ax = plt.subplots(1, 2, figsize=(10, 5))\n",
    "ax[0].imshow(original_image, cmap='gray')\n",
    "ax[0].title.set_text('Original Image')\n",
    "ax[1].imshow(convolved_image, cmap='gray')\n",
    "ax[1].title.set_text('Convolved Image')\n",
    "plt.show()"
   ]
  },
  {
   "cell_type": "markdown",
   "id": "444bb654",
   "metadata": {},
   "source": [
    "# Free the allocated buffers"
   ]
  },
  {
   "cell_type": "code",
   "execution_count": 118,
   "id": "1415cba9",
   "metadata": {},
   "outputs": [],
   "source": [
    "input_buffer.close()\n",
    "output_buffer.close()"
   ]
  },
  {
   "cell_type": "code",
   "execution_count": null,
   "id": "749e1f62",
   "metadata": {},
   "outputs": [],
   "source": []
  }
 ],
 "metadata": {
  "kernelspec": {
   "display_name": "Python 3 (ipykernel)",
   "language": "python",
   "name": "python3"
  },
  "language_info": {
   "codemirror_mode": {
    "name": "ipython",
    "version": 3
   },
   "file_extension": ".py",
   "mimetype": "text/x-python",
   "name": "python",
   "nbconvert_exporter": "python",
   "pygments_lexer": "ipython3",
   "version": "3.10.4"
  }
 },
 "nbformat": 4,
 "nbformat_minor": 5
}
